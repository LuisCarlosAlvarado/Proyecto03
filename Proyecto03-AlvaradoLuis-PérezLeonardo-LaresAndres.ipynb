{
 "cells": [
  {
   "cell_type": "markdown",
   "metadata": {},
   "source": [
    "# CETES 28, 91, 182, 364 Días "
   ]
  },
  {
   "cell_type": "markdown",
   "metadata": {},
   "source": [
    "# Se van a capitalizar los 4 diferentes CETES que ofrece el gobierno, con el fin de ver cual es mas efectivo para nuestras necesidades.\n"
   ]
  },
  {
   "cell_type": "markdown",
   "metadata": {},
   "source": [
    "# La tasa de interes no es fija, esto porque las tasas de interes cambian cada semana."
   ]
  },
  {
   "cell_type": "code",
   "execution_count": 1,
   "metadata": {},
   "outputs": [],
   "source": [
    "import numpy as np\n",
    "import matplotlib.pyplot as plt\n",
    "%matplotlib inline\n",
    "from ipywidgets import *"
   ]
  },
  {
   "cell_type": "markdown",
   "metadata": {},
   "source": [
    "Tomámos las tasas de Banxico, les dimos un monto inicial de $1000, es decir, 100 cetes, ya que su valor nominal es de $10 c/u.\n",
    "Las tasas son Cetes 28 = 7.40%, Cetes 91 = 7.44%, Cetes 182 = 7.35% Y Cetes 364 = 7.18%. Observaremos con cuál Cete obtenemos un mayor rendimiento en efectivo en un menor plazo.\n",
    "\n",
    "Esto es considerando que compramos con la tasa del día 5-dic-2019 durante todos los periodos .\n",
    "\n",
    "Dividimos las tasas entre el número de periodos anuales para obtener la tasa por periodo.\n",
    " Cetes 28 = .62%, Cetes 91 = 1.86%, Cetes 182 = 3.675% Y Cetes 364 = 7.18%.\n"
   ]
  },
  {
   "cell_type": "markdown",
   "metadata": {},
   "source": [
    "## CETES 28"
   ]
  },
  {
   "cell_type": "code",
   "execution_count": 20,
   "metadata": {
    "scrolled": true
   },
   "outputs": [
    {
     "name": "stdout",
     "output_type": "stream",
     "text": [
      "Monto deseado100000\n",
      "Capital inicial1000\n",
      "Tasa de interes.0062\n"
     ]
    },
    {
     "data": {
      "application/vnd.jupyter.widget-view+json": {
       "model_id": "4e91c6d5d8434b549d91add6548ca792",
       "version_major": 2,
       "version_minor": 0
      },
      "text/plain": [
       "interactive(children=(IntSlider(value=100000, description='meta', max=300000, min=-100000), Button(description…"
      ]
     },
     "metadata": {},
     "output_type": "display_data"
    },
    {
     "data": {
      "text/plain": [
       "<function __main__.interes_compuesto(C0, meta, i)>"
      ]
     },
     "execution_count": 20,
     "metadata": {},
     "output_type": "execute_result"
    }
   ],
   "source": [
    "def interes_compuesto(C0,meta,i):\n",
    "    #Despejamos k\n",
    "    k=np.ceil(np.log(meta/C0)/np.log(1+i)) #Se trunca el periodo hacia arriba\n",
    "    k=k.astype(int)                        #k como entero\n",
    "    \n",
    "    Ck=C0*(1+i)**k                         #Cálculo del capital al periodo k\n",
    "    Ck=round(Ck,2)                         #Redondeo a dos cifras\n",
    "    \n",
    "    #Gráfica\n",
    "    periodos=np.linspace(0,k,k+1)  #Vector de periodos de 0 hasta k\n",
    "    Capitales=C0*(1+i)**periodos   #Vector de Capitales\n",
    "    plt.figure(num=1)              #Se crea la misma figura (mismo identificador)\n",
    "    plt.clf()                      #Se borra el gráfico anterior\n",
    "    plt.plot(periodos,Capitales,'*',ms=10)\n",
    "    plt.xlabel('$k$')\n",
    "    plt.ylabel('$C_k$')\n",
    "    plt.plot([0,k],[meta,meta],'--k') #Se grafica la meta\n",
    "    plt.grid()\n",
    "    plt.show()\n",
    "    print('El número de periodos requeridos para alcanzar ',meta, ' pesos, es: ',k,\n",
    "      '. El capital generado es de ',Ck,' pesos.',sep='')\n",
    "    \n",
    "interact_manual(interes_compuesto,meta=(int(input(\"Monto deseado\"))),C0=fixed(int(input(\"Capital inicial\"))),i=fixed(float(input(\"Tasa de interes\"))))"
   ]
  },
  {
   "cell_type": "markdown",
   "metadata": {},
   "source": [
    "## CETES 91"
   ]
  },
  {
   "cell_type": "code",
   "execution_count": 21,
   "metadata": {},
   "outputs": [
    {
     "name": "stdout",
     "output_type": "stream",
     "text": [
      "Monto deseado100000\n",
      "Capital inicial1000\n",
      "Tasa de interes.0186\n"
     ]
    },
    {
     "data": {
      "application/vnd.jupyter.widget-view+json": {
       "model_id": "6e3f5f96c85d430894b82d5a3860fc12",
       "version_major": 2,
       "version_minor": 0
      },
      "text/plain": [
       "interactive(children=(IntSlider(value=100000, description='meta', max=300000, min=-100000), Button(description…"
      ]
     },
     "metadata": {},
     "output_type": "display_data"
    },
    {
     "data": {
      "text/plain": [
       "<function __main__.interes_compuesto(C0, meta, i)>"
      ]
     },
     "execution_count": 21,
     "metadata": {},
     "output_type": "execute_result"
    }
   ],
   "source": [
    "def interes_compuesto(C0,meta,i):\n",
    "    #Despejamos k\n",
    "    k=np.ceil(np.log(meta/C0)/np.log(1+i)) #Se trunca el periodo hacia arriba\n",
    "    k=k.astype(int)                        #k como entero\n",
    "    \n",
    "    Ck=C0*(1+i)**k                         #Cálculo del capital al periodo k\n",
    "    Ck=round(Ck,2)                         #Redondeo a dos cifras\n",
    "    \n",
    "    #Gráfica\n",
    "    periodos=np.linspace(0,k,k+1)  #Vector de periodos de 0 hasta k\n",
    "    Capitales=C0*(1+i)**periodos   #Vector de Capitales\n",
    "    plt.figure(num=1)              #Se crea la misma figura (mismo identificador)\n",
    "    plt.clf()                      #Se borra el gráfico anterior\n",
    "    plt.plot(periodos,Capitales,'*',ms=10)\n",
    "    plt.xlabel('$k$')\n",
    "    plt.ylabel('$C_k$')\n",
    "    plt.plot([0,k],[meta,meta],'--k') #Se grafica la meta\n",
    "    plt.grid()\n",
    "    plt.show()\n",
    "    print('El número de periodos requeridos para alcanzar ',meta, ' pesos, es: ',k,\n",
    "      '. El capital generado es de ',Ck,' pesos.',sep='')\n",
    "    \n",
    "interact_manual(interes_compuesto,meta=(int(input(\"Monto deseado\"))),C0=fixed(int(input(\"Capital inicial\"))),i=fixed(float(input(\"Tasa de interes\"))))"
   ]
  },
  {
   "cell_type": "markdown",
   "metadata": {},
   "source": [
    "## CETES 182"
   ]
  },
  {
   "cell_type": "code",
   "execution_count": 22,
   "metadata": {},
   "outputs": [
    {
     "name": "stdout",
     "output_type": "stream",
     "text": [
      "Monto deseado100000\n",
      "Capital inicial1000\n",
      "Tasa de interes.03675\n"
     ]
    },
    {
     "data": {
      "application/vnd.jupyter.widget-view+json": {
       "model_id": "43b54e01561d4a978838fd19944c7c09",
       "version_major": 2,
       "version_minor": 0
      },
      "text/plain": [
       "interactive(children=(IntSlider(value=100000, description='meta', max=300000, min=-100000), Button(description…"
      ]
     },
     "metadata": {},
     "output_type": "display_data"
    },
    {
     "data": {
      "text/plain": [
       "<function __main__.interes_compuesto(C0, meta, i)>"
      ]
     },
     "execution_count": 22,
     "metadata": {},
     "output_type": "execute_result"
    }
   ],
   "source": [
    "def interes_compuesto(C0,meta,i):\n",
    "    #Despejamos k\n",
    "    k=np.ceil(np.log(meta/C0)/np.log(1+i)) #Se trunca el periodo hacia arriba\n",
    "    k=k.astype(int)                        #k como entero\n",
    "    \n",
    "    Ck=C0*(1+i)**k                         #Cálculo del capital al periodo k\n",
    "    Ck=round(Ck,2)                         #Redondeo a dos cifras\n",
    "    \n",
    "    #Gráfica\n",
    "    periodos=np.linspace(0,k,k+1)  #Vector de periodos de 0 hasta k\n",
    "    Capitales=C0*(1+i)**periodos   #Vector de Capitales\n",
    "    plt.figure(num=1)              #Se crea la misma figura (mismo identificador)\n",
    "    plt.clf()                      #Se borra el gráfico anterior\n",
    "    plt.plot(periodos,Capitales,'*',ms=10)\n",
    "    plt.xlabel('$k$')\n",
    "    plt.ylabel('$C_k$')\n",
    "    plt.plot([0,k],[meta,meta],'--k') #Se grafica la meta\n",
    "    plt.grid()\n",
    "    plt.show()\n",
    "    print('El número de periodos requeridos para alcanzar ',meta, ' pesos, es: ',k,\n",
    "      '. El capital generado es de ',Ck,' pesos.',sep='')\n",
    "    \n",
    "interact_manual(interes_compuesto,meta=(int(input(\"Monto deseado\"))),C0=fixed(int(input(\"Capital inicial\"))),i=fixed(float(input(\"Tasa de interes\"))))"
   ]
  },
  {
   "cell_type": "markdown",
   "metadata": {},
   "source": [
    "## CETES 364"
   ]
  },
  {
   "cell_type": "code",
   "execution_count": 18,
   "metadata": {},
   "outputs": [
    {
     "name": "stdout",
     "output_type": "stream",
     "text": [
      "Monto deseado100000\n",
      "Capital inicial1000\n",
      "Tasa de interes.0718\n"
     ]
    },
    {
     "data": {
      "application/vnd.jupyter.widget-view+json": {
       "model_id": "9ff1cc20593e4e59a4d7bfd1f7196f21",
       "version_major": 2,
       "version_minor": 0
      },
      "text/plain": [
       "interactive(children=(IntSlider(value=100000, description='meta', max=300000, min=-100000), Button(description…"
      ]
     },
     "metadata": {},
     "output_type": "display_data"
    },
    {
     "data": {
      "text/plain": [
       "<function __main__.interes_compuesto(C0, meta, i)>"
      ]
     },
     "execution_count": 18,
     "metadata": {},
     "output_type": "execute_result"
    }
   ],
   "source": [
    "def interes_compuesto(C0,meta,i):\n",
    "    #Despejamos k\n",
    "    k=np.ceil(np.log(meta/C0)/np.log(1+i)) #Se trunca el periodo hacia arriba\n",
    "    k=k.astype(int)                        #k como entero\n",
    "    \n",
    "    Ck=C0*(1+i)**k                         #Cálculo del capital al periodo k\n",
    "    Ck=round(Ck,2)                         #Redondeo a dos cifras\n",
    "    \n",
    "    #Gráfica\n",
    "    periodos=np.linspace(0,k,k+1)  #Vector de periodos de 0 hasta k\n",
    "    Capitales=C0*(1+i)**periodos   #Vector de Capitales\n",
    "    plt.figure(num=1)              #Se crea la misma figura (mismo identificador)\n",
    "    plt.clf()                      #Se borra el gráfico anterior\n",
    "    plt.plot(periodos,Capitales,'*',ms=10)\n",
    "    plt.xlabel('$k$')\n",
    "    plt.ylabel('$C_k$')\n",
    "    plt.plot([0,k],[meta,meta],'--k') #Se grafica la meta\n",
    "    plt.grid()\n",
    "    plt.show()\n",
    "    print('El número de periodos requeridos para alcanzar ',meta, ' pesos, es: ',k,\n",
    "      '. El capital generado es de ',Ck,' pesos.',sep='')\n",
    "    \n",
    "interact_manual(interes_compuesto,meta=(int(input(\"Monto deseado\"))),C0=fixed(int(input(\"Capital inicial\"))),i=fixed(float(input(\"Tasa de interes\"))))"
   ]
  },
  {
   "cell_type": "markdown",
   "metadata": {},
   "source": [
    "# Conclusión"
   ]
  },
  {
   "cell_type": "markdown",
   "metadata": {},
   "source": [
    "Por lo tanto, el resultado se refiere al número de periodos, los cuales convertiremos a años para su comparación.\n",
    "CETES 28= 746 meses = 62.16 años\n",
    "CETES 91= 250 trimestres = 62.5 años\n",
    "CETES 182= 128 semestres = 64 años\n",
    "CETES 364= 67 años\n",
    "\n",
    "Se supone que el CETE más longevo tiene mayor recompensa, sin embargo, lo que influye aquí son los periodos de capitalización, los de 28 días capitalizan más veces y esto nos permite llegar a la meta más rápido."
   ]
  },
  {
   "cell_type": "markdown",
   "metadata": {},
   "source": [
    "## Función para saber cuánto dinero tenemos que invertir para lograr cierto monto, a un plazo y tasa seleccionados con capitalización compuesta."
   ]
  },
  {
   "cell_type": "markdown",
   "metadata": {},
   "source": [
    "### Estámos modificando la fórmula, ahora lo que queremos obtener es \"C0\", esto simpifica un poco las cosas, en lugar de encontrar los periodos, encuentras el capital requerido."
   ]
  },
  {
   "cell_type": "markdown",
   "metadata": {},
   "source": [
    "### Esto sirve ,por ejemplo, para comparar las opciones que nos dan los bancosal momento de invertir con ellos y saber en cuál opción podremos obtener la misma ganancia con una menor inversión, siempre y cuando sea capitalizable de forma compuesta."
   ]
  },
  {
   "cell_type": "code",
   "execution_count": 14,
   "metadata": {
    "scrolled": true
   },
   "outputs": [
    {
     "name": "stdout",
     "output_type": "stream",
     "text": [
      "Capital generado150000\n",
      "Periodos24\n",
      "Tasa de interes.3\n"
     ]
    },
    {
     "data": {
      "application/vnd.jupyter.widget-view+json": {
       "model_id": "c335a979667a4ec294024f62df619835",
       "version_major": 2,
       "version_minor": 0
      },
      "text/plain": [
       "interactive(children=(Button(description='Run Interact', style=ButtonStyle()), Output()), _dom_classes=('widge…"
      ]
     },
     "metadata": {},
     "output_type": "display_data"
    },
    {
     "data": {
      "text/plain": [
       "<function __main__.interes_compuesto(Ck, i, k)>"
      ]
     },
     "execution_count": 14,
     "metadata": {},
     "output_type": "execute_result"
    }
   ],
   "source": [
    "def interes_compuesto(Ck,i,k):\n",
    "    C0= Ck/(1+i)**k\n",
    "    C0=round(C0,2)                        \n",
    "    #Gráfica  \n",
    "    Capitales=Ck/(1+i)**k   #Vector de Capitales\n",
    "    plt.figure(num=1)              #Se crea la misma figura (mismo identificador)\n",
    "    plt.clf()                      #Se borra el gráfico anterior\n",
    "    plt.plot(Capitales,'*',ms=10)\n",
    "    plt.xlabel('$k$')\n",
    "    plt.ylabel('$C_0$')\n",
    "    plt.grid()\n",
    "    plt.show()\n",
    "    print('El monto inicial para alcanzar ', Ck , ' pesos, en ', k ,\n",
    "      ' periodos es ', C0 ,' pesos.',sep='')\n",
    "    \n",
    "interact_manual(interes_compuesto,Ck=fixed(int(input(\"Capital generado\"))),k=fixed(int(input(\"Periodos\"))),i=fixed(float(input(\"Tasa de interes\"))))"
   ]
  },
  {
   "cell_type": "markdown",
   "metadata": {},
   "source": [
    "# Conclusión"
   ]
  },
  {
   "cell_type": "markdown",
   "metadata": {},
   "source": [
    "Sabemos que fue un proyecto bastante sencillo, creémos que por el tiempo que tuvimos fue justo. Se supone que la base del periodo son las ecuaciones diferenciales, por lo tanto, pudimos aplicar los conocimientos que habíamos adquirido en la materia de matemáticas financiera, así evitamos estar haciendo cálculos a mano y podemos eficientar el trabajo. "
   ]
  }
 ],
 "metadata": {
  "kernelspec": {
   "display_name": "Python 3",
   "language": "python",
   "name": "python3"
  },
  "language_info": {
   "codemirror_mode": {
    "name": "ipython",
    "version": 3
   },
   "file_extension": ".py",
   "mimetype": "text/x-python",
   "name": "python",
   "nbconvert_exporter": "python",
   "pygments_lexer": "ipython3",
   "version": "3.7.3"
  }
 },
 "nbformat": 4,
 "nbformat_minor": 2
}
